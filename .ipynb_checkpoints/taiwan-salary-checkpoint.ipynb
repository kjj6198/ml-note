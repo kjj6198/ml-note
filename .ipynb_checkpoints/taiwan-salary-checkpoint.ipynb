{
 "cells": [
  {
   "cell_type": "code",
   "execution_count": 2,
   "metadata": {
    "collapsed": true
   },
   "outputs": [],
   "source": [
    "from matplotlib import pyplot as plt\n",
    "import numpy as np\n",
    "import matplotlib\n",
    "import random"
   ]
  },
  {
   "cell_type": "code",
   "execution_count": 3,
   "metadata": {
    "scrolled": true
   },
   "outputs": [
    {
     "data": {
      "image/png": "[encoded data removed]",
      "text/plain": [
       "<matplotlib.figure.Figure at 0x10effaf28>"
      ]
     },
     "metadata": {},
     "output_type": "display_data"
    }
   ],
   "source": [
    "# define our dataset\n",
    "data = np.genfromtxt('taiwan-salary.csv', delimiter=',')\n",
    "years = data[:, 0] # x\n",
    "salarys = data[:, 1] # y\n",
    "m = salarys.size\n",
    "\n",
    "# plot data\n",
    "plt.scatter(years, salarys)\n",
    "plt.xlabel(\"Year\")\n",
    "plt.ylabel(\"Salary(TWD)\")\n",
    "plt.show()"
   ]
  },
  {
   "cell_type": "markdown",
   "metadata": {},
   "source": [
    "## Linear Regression with one variable\n",
    "在這次的實驗當中，我們想要觀察的變量為「薪水」，輸入為年份\n",
    "\n",
    "### 1. 定義成本函數\n",
    "$$\n",
    "h(x)=weight * x\n",
    "$$\n",
    "$$\n",
    "J(W) = \\frac{1}{2m}\\sum_{i=1}^{m} (h(x) - y)^2\n",
    "$$\n",
    "\n",
    "### 2. 線性方程式\n",
    "$$\n",
    "h(x)=ax+b\n",
    "$$\n",
    "\n",
    "### 3. 梯度下降更新權重\n",
    "$$\n",
    "W = W - \\alpha * \\frac{1}{m} \\sum_{i=1}^{m}(h(x) - y) * x\n",
    "$$"
   ]
  },
  {
   "cell_type": "code",
   "execution_count": 4,
   "metadata": {},
   "outputs": [
    {
     "name": "stdout",
     "output_type": "stream",
     "text": [
      "[  62.   63.   64.   65.   66.   67.   68.   69.   70.   71.   72.   73.\n",
      "   74.   75.   76.   77.   78.   79.   80.   81.   82.   83.   84.   85.\n",
      "   86.   87.   88.   89.   90.   91.   92.   93.   94.   95.   96.   97.\n",
      "   98.   99.  100.  101.  102.  103.  104.  105.] [  2254.   3078.   3637.   4266.   5068.   5631.   6727.   9074.  10925.\n",
      "  11682.  12313.  13689.  14265.  15412.  16799.  18707.  21535.  24586.\n",
      "  27097.  29618.  31848.  33783.  35444.  36734.  38521.  39690.  40846.\n",
      "  41856.  41927.  41490.  42023.  42636.  43116.  43448.  44342.  44309.\n",
      "  42036.  44256.  45395.  45483.  45553.  47164.  48362.  48657.]\n"
     ]
    }
   ],
   "source": [
    "# normalization\n",
    "weights = 1\n",
    "train_data = years\n",
    "train_label = salarys\n",
    "print(train_data, train_label)\n",
    "\n"
   ]
  },
  {
   "cell_type": "code",
   "execution_count": 36,
   "metadata": {},
   "outputs": [
    {
     "name": "stdout",
     "output_type": "stream",
     "text": [
      "1\n",
      "[  62.   63.   64.   65.   66.   67.   68.   69.   70.   71.   72.   73.\n",
      "   74.   75.   76.   77.   78.   79.   80.   81.   82.   83.   84.   85.\n",
      "   86.   87.   88.   89.   90.   91.   92.   93.   94.   95.   96.   97.\n",
      "   98.   99.  100.  101.  102.  103.  104.  105.]\n",
      "422.08887771\n",
      "[  62.   63.   64.   65.   66.   67.   68.   69.   70.   71.   72.   73.\n",
      "   74.   75.   76.   77.   78.   79.   80.   81.   82.   83.   84.   85.\n",
      "   86.   87.   88.   89.   90.   91.   92.   93.   94.   95.   96.   97.\n",
      "   98.   99.  100.  101.  102.  103.  104.  105.]\n",
      "459.70923697\n",
      "[  62.   63.   64.   65.   66.   67.   68.   69.   70.   71.   72.   73.\n",
      "   74.   75.   76.   77.   78.   79.   80.   81.   82.   83.   84.   85.\n",
      "   86.   87.   88.   89.   90.   91.   92.   93.   94.   95.   96.   97.\n",
      "   98.   99.  100.  101.  102.  103.  104.  105.]\n"
     ]
    },
    {
     "data": {
      "image/png": "[encoded data removed]",
      "text/plain": [
       "<matplotlib.figure.Figure at 0x11549eef0>"
      ]
     },
     "metadata": {},
     "output_type": "display_data"
    },
    {
     "name": "stdout",
     "output_type": "stream",
     "text": [
      "next year Salary in Taiwan would be: $49548.5183321\n",
      "Salary in Taiwan at 150 would be: $69460.5397179\n"
     ]
    }
   ],
   "source": [
    "def predict(X, weight):\n",
    "    return weight * X\n",
    "\n",
    "\n",
    "def gradient(data, Y, alpha, step):\n",
    "    m = len(data)\n",
    "    weight = 1\n",
    "    for i in range(0, step):\n",
    "        sum = 0\n",
    "        for j in range(0, m):\n",
    "            prediction = weight * data[j]\n",
    "\n",
    "            errors = prediction - Y[j]\n",
    "            sum += errors * data[j]\n",
    "        if (i % 100 == 0):\n",
    "            print(weight)\n",
    "            print(data)\n",
    "        gradient = (1/m) * alpha * errors\n",
    "        weight = weight - gradient\n",
    "\n",
    "    return weight\n",
    "\n",
    "w = gradient(train_data, train_label, 0.01, 300)\n",
    "plt.plot(train_data, w * train_data)\n",
    "plt.scatter(train_data, train_label)\n",
    "plt.xlabel(\"Year\")\n",
    "plt.ylabel(\"Salary(TWD)\")\n",
    "plt.show()\n",
    "\n",
    "print(\"next year Salary in Taiwan would be: \" + \"$\" + str(w * 107))\n",
    "print(\"Salary in Taiwan at 150 would be: \" + \"$\" + str(w * 150))\n"
   ]
  },
  {
   "cell_type": "markdown",
   "metadata": {},
   "source": [
    "## 問題：\n",
    "1. 感覺訓練出來的結果還不夠接近資料的分佈，為什麼呢？\n",
    "2. 這個 model 只有一個變數（年份），但年份不一定是影響薪水的主要因素，更重要的或許是物價指數、勞工工時等等，因此在分析資料時，知道如何選用哪些特徵是相當重要的。\n",
    "3. 如果輸入的資料非線性的話怎麼辦？可以透過加入平方項的特徵解決。"
   ]
  },
  {
   "cell_type": "markdown",
   "metadata": {},
   "source": [
    "1. 在這次的實驗當中，其實我忽略了$ax+b$當中的`b`，這就是造成本次的線條不夠準確的原因。在實務上會這樣表示：\n",
    "$$\n",
    "f(x)=w0x0+w1x1\n",
    "$$\n",
    "其中 x0 通常都會設定為 1 方便訓練，因此在設定權重時，別忘了把 x0 也一起算進去唷！"
   ]
  }
 ],
 "metadata": {
  "kernelspec": {
   "display_name": "Python 3",
   "language": "python",
   "name": "python3"
  },
  "language_info": {
   "codemirror_mode": {
    "name": "ipython",
    "version": 3
   },
   "file_extension": ".py",
   "mimetype": "text/x-python",
   "name": "python",
   "nbconvert_exporter": "python",
   "pygments_lexer": "ipython3",
   "version": "3.6.1"
  }
 },
 "nbformat": 4,
 "nbformat_minor": 2
}
