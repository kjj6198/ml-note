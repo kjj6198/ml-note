{
 "cells": [
  {
   "cell_type": "code",
   "execution_count": 3,
   "metadata": {
    "collapsed": true
   },
   "outputs": [],
   "source": [
    "from matplotlib import pyplot as plt\n",
    "import numpy as np\n",
    "import matplotlib\n",
    "import random"
   ]
  },
  {
   "cell_type": "code",
   "execution_count": 4,
   "metadata": {
    "scrolled": true
   },
   "outputs": [
    {
     "data": {
      "image/png": "[encoded data removed]",
      "text/plain": [
       "<matplotlib.figure.Figure at 0x10dfed2e8>"
      ]
     },
     "metadata": {},
     "output_type": "display_data"
    }
   ],
   "source": [
    "# define our dataset\n",
    "data = np.genfromtxt('taiwan-salary.csv', delimiter=',')\n",
    "years = data[:, 0] # x\n",
    "salarys = data[:, 1] # y\n",
    "m = salarys.size\n",
    "\n",
    "# plot data\n",
    "plt.scatter(years, salarys)\n",
    "plt.xlabel(\"Year\")\n",
    "plt.ylabel(\"Salary(TWD)\")\n",
    "plt.show()"
   ]
  },
  {
   "cell_type": "markdown",
   "metadata": {},
   "source": [
    "## Linear Regression with one variable\n",
    "在這次的實驗當中，我們想要觀察的變量為「薪水」，輸入為年份\n",
    "\n",
    "### 1. 定義成本函數\n",
    "$$\n",
    "h(x)=weight * x\n",
    "$$\n",
    "$$\n",
    "J(W) = \\frac{1}{2m}\\sum_{i=1}^{m} (h(x) - y)^2\n",
    "$$\n",
    "\n",
    "### 2. 線性方程式\n",
    "$$\n",
    "h(x)=ax+b\n",
    "$$\n",
    "\n",
    "### 3. 梯度下降更新權重\n",
    "$$\n",
    "W = W - \\alpha * \\frac{1}{m} \\sum_{i=1}^{m}(h(x) - y) * x\n",
    "$$"
   ]
  },
  {
   "cell_type": "code",
   "execution_count": 167,
   "metadata": {
    "collapsed": true
   },
   "outputs": [],
   "source": [
    "# normalization\n",
    "weights = 1\n",
    "train_data = years\n",
    "train_label = salarys\n",
    "\n"
   ]
  },
  {
   "cell_type": "code",
   "execution_count": 193,
   "metadata": {},
   "outputs": [
    {
     "name": "stdout",
     "output_type": "stream",
     "text": [
      "47191461352.0\n",
      "inf\n",
      "nan\n",
      "nan\n",
      "nan\n",
      "nan\n",
      "nan\n",
      "nan\n",
      "nan\n",
      "nan\n",
      "nan\n",
      "nan\n"
     ]
    },
    {
     "name": "stderr",
     "output_type": "stream",
     "text": [
      "/usr/local/anaconda3/lib/python3.6/site-packages/ipykernel_launcher.py:5: RuntimeWarning: overflow encountered in square\n",
      "  \"\"\"\n",
      "/usr/local/anaconda3/lib/python3.6/site-packages/ipykernel_launcher.py:22: RuntimeWarning: overflow encountered in multiply\n",
      "/usr/local/anaconda3/lib/python3.6/site-packages/ipykernel_launcher.py:22: RuntimeWarning: overflow encountered in add\n",
      "/usr/local/anaconda3/lib/python3.6/site-packages/ipykernel_launcher.py:19: RuntimeWarning: overflow encountered in multiply\n",
      "/usr/local/anaconda3/lib/python3.6/site-packages/ipykernel_launcher.py:25: RuntimeWarning: overflow encountered in multiply\n",
      "/usr/local/anaconda3/lib/python3.6/site-packages/ipykernel_launcher.py:26: RuntimeWarning: invalid value encountered in subtract\n"
     ]
    },
    {
     "name": "stdout",
     "output_type": "stream",
     "text": [
      "nan\n",
      "nan\n",
      "nan\n"
     ]
    },
    {
     "data": {
      "image/png": "[encoded data removed]",
      "text/plain": [
       "<matplotlib.figure.Figure at 0x117d8b2e8>"
      ]
     },
     "metadata": {},
     "output_type": "display_data"
    },
    {
     "name": "stdout",
     "output_type": "stream",
     "text": [
      "next year Salary in Taiwan would be: $[ nan  nan  nan  nan  nan  nan  nan  nan  nan  nan  nan  nan  nan  nan  nan\n",
      "  nan  nan  nan  nan  nan  nan  nan  nan  nan  nan  nan  nan  nan  nan  nan\n",
      "  nan  nan  nan  nan  nan  nan  nan  nan  nan  nan  nan  nan  nan  nan]\n",
      "Salary in Taiwan at 150 would be: $[ nan  nan  nan  nan  nan  nan  nan  nan  nan  nan  nan  nan  nan  nan  nan\n",
      "  nan  nan  nan  nan  nan  nan  nan  nan  nan  nan  nan  nan  nan  nan  nan\n",
      "  nan  nan  nan  nan  nan  nan  nan  nan  nan  nan  nan  nan  nan  nan]\n"
     ]
    }
   ],
   "source": [
    "def predict(X, weight):\n",
    "    return weight * X\n",
    "\n",
    "def error(X, weights, Y):\n",
    "    return (predict(X, weights) - Y)**2\n",
    "\n",
    "def cost(data, weights, Y):\n",
    "    sum = 0\n",
    "    m = len(data)\n",
    "    for i in range(0, m):\n",
    "        sum += error(data[i], weights, Y[i])\n",
    "    return (1 / (2*m)) * sum\n",
    "\n",
    "def gradient(data, weights, Y, alpha, step):\n",
    "    m = len(data)\n",
    "    for i in range(0, step):\n",
    "        sum = 0\n",
    "        for j in range(0, m):\n",
    "            prediction = weights * data[j]\n",
    "\n",
    "            errors = prediction - Y[j]\n",
    "            sum += errors * data[j]\n",
    "        if (i % 100 == 0):\n",
    "            print(np.sum(error(data, weights, Y)))\n",
    "        gradient = (1/m) * alpha * errors * data\n",
    "        weights = weights - gradient\n",
    "\n",
    "    return weights\n",
    "\n",
    "\n",
    "w = gradient(train_data, weights, train_label, 0.05, 1500)\n",
    "plt.scatter(years, salarys)\n",
    "plt.plot(train_data, w * train_data)\n",
    "plt.xlabel(\"Year\")\n",
    "plt.ylabel(\"Salary(TWD)\")\n",
    "plt.show()\n",
    "\n",
    "print(\"next year Salary in Taiwan would be: \" + \"$\" + str(w * 107))\n",
    "print(\"Salary in Taiwan at 150 would be: \" + \"$\" + str(w * 150))\n"
   ]
  },
  {
   "cell_type": "markdown",
   "metadata": {},
   "source": [
    "## 問題：\n",
    "1. 感覺訓練出來的結果還不夠接近資料的分佈，為什麼呢？\n",
    "2. cost 收斂到一定程度後就沒有再繼續下降了，為什麼？\n",
    "3. 這個 model 只有一個變數（年份），但年份不一定是影響薪水的主要因素，更重要的或許是物價指數、勞工工時等等，因此在分析資料時，知道如何選用哪些特徵是相當重要的。\n",
    "4. 如果輸入的資料非線性的話怎麼辦？可以透過加入平方項的特徵解決。"
   ]
  }
 ],
 "metadata": {
  "kernelspec": {
   "display_name": "Python 3",
   "language": "python",
   "name": "python3"
  },
  "language_info": {
   "codemirror_mode": {
    "name": "ipython",
    "version": 3
   },
   "file_extension": ".py",
   "mimetype": "text/x-python",
   "name": "python",
   "nbconvert_exporter": "python",
   "pygments_lexer": "ipython3",
   "version": "3.6.1"
  }
 },
 "nbformat": 4,
 "nbformat_minor": 2
}
