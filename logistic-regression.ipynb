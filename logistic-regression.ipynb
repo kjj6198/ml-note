{
 "cells": [
  {
   "cell_type": "code",
   "execution_count": 104,
   "metadata": {
    "collapsed": true
   },
   "outputs": [],
   "source": [
    "import numpy as np\n",
    "import matplotlib.pyplot as plt"
   ]
  },
  {
   "cell_type": "code",
   "execution_count": 105,
   "metadata": {
    "collapsed": true
   },
   "outputs": [],
   "source": [
    "train_data = np.array([\n",
    "    [20,10000],\n",
    "    [23,21000],\n",
    "    [30,25000],\n",
    "    [31,55500],\n",
    "    [22,15000],\n",
    "    [44,70000],\n",
    "    [32,45000],\n",
    "    [12,1000],\n",
    "    [10,1000],\n",
    "    [18,10000],\n",
    "    [40,120000],\n",
    "    [25,80000],\n",
    "    [40,200000],\n",
    "    [46,90000],\n",
    "    [40,40000],\n",
    "    [25,50000],\n",
    "    [28,20000],\n",
    "    [35,67090],\n",
    "    [50,22000]\n",
    "])\n",
    "\n",
    "train_label = np.array([\n",
    "    0,\n",
    "    1,\n",
    "    0,\n",
    "    1,\n",
    "    1,\n",
    "    1,\n",
    "    1,\n",
    "    0,\n",
    "    0,\n",
    "    0,\n",
    "    1,\n",
    "    1,\n",
    "    1,\n",
    "    1,\n",
    "    1,\n",
    "    1,\n",
    "    0,\n",
    "    1,\n",
    "    0\n",
    "])"
   ]
  },
  {
   "cell_type": "code",
   "execution_count": 106,
   "metadata": {},
   "outputs": [
    {
     "data": {
      "image/png": "[encoded data removed]",
      "text/plain": [
       "<matplotlib.figure.Figure at 0x10f24bba8>"
      ]
     },
     "metadata": {},
     "output_type": "display_data"
    }
   ],
   "source": [
    "pos = np.nonzero(train_label==1)\n",
    "neg = np.nonzero(train_label==0)\n",
    "\n",
    "plt.scatter(train_data[pos, 0][0], train_data[pos, 1][0], marker=\"+\")\n",
    "plt.scatter(train_data[neg, 0][0], train_data[neg, 1][0], marker=\"*\")\n",
    "\n",
    "plt.show()"
   ]
  },
  {
   "cell_type": "code",
   "execution_count": 122,
   "metadata": {
    "scrolled": false
   },
   "outputs": [
    {
     "name": "stdout",
     "output_type": "stream",
     "text": [
      "[   -43.34210526  27572.89473684]\n"
     ]
    },
    {
     "name": "stderr",
     "output_type": "stream",
     "text": [
      "/usr/local/anaconda3/lib/python3.6/site-packages/ipykernel_launcher.py:2: RuntimeWarning: overflow encountered in exp\n",
      "  \n"
     ]
    }
   ],
   "source": [
    "def sigmoid(z):\n",
    "    return 1 / (1 + np.exp(-z))\n",
    "\n",
    "def predict(x, weights):\n",
    "    return sigmoid(x.dot(weights))\n",
    "\n",
    "def gradient(X, weights, Y):\n",
    "    g = np.zeros(2)\n",
    "    m = len(X)\n",
    "\n",
    "    i = 0\n",
    "    for x in X:\n",
    "        error = sigmoid(weights.dot(x))\n",
    "        g += (error - Y[i]) * x\n",
    "        i += 1\n",
    "    return g / m\n",
    "\n",
    "\n",
    "def gradient_descent(X, Y, alpha, step):\n",
    "    weights = np.zeros(2)\n",
    "\n",
    "    for i in range(0, step):\n",
    "        weights = weights - (alpha * gradient(X, weights, Y))\n",
    "    return weights\n",
    "\n",
    "\n",
    "w = gradient_descent(train_data, train_label, 1, 10)\n",
    "\n",
    "\n",
    "print(w)\n"
   ]
  },
  {
   "cell_type": "code",
   "execution_count": null,
   "metadata": {
    "collapsed": true
   },
   "outputs": [],
   "source": []
  }
 ],
 "metadata": {
  "kernelspec": {
   "display_name": "Python 3",
   "language": "python",
   "name": "python3"
  },
  "language_info": {
   "codemirror_mode": {
    "name": "ipython",
    "version": 3
   },
   "file_extension": ".py",
   "mimetype": "text/x-python",
   "name": "python",
   "nbconvert_exporter": "python",
   "pygments_lexer": "ipython3",
   "version": "3.6.1"
  }
 },
 "nbformat": 4,
 "nbformat_minor": 2
}
