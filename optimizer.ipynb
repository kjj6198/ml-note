{
 "cells": [
  {
   "cell_type": "markdown",
   "metadata": {
    "deletable": true,
    "editable": true
   },
   "source": [
    "# 介紹幾種 Optimizer \n",
    "\n",
    "## Momentum\n",
    "\n",
    "維持 `v` 速度，並且乘上一個參數 $\\alpha$\n",
    "\n",
    "$$\n",
    "v_t = \\alpha * v_{t-1} + \\gamma * J(W) \\\\\n",
    "W_{t} = W_{t-1} + v\n",
    "$$\n",
    "\n",
    "`v` 為速度，$J(W)$ 為 cost function 的梯度，如果梯度方向和之前一致，則會逐漸增加動量，反之則會衰減，來避免 SGD 不穩定的步伐。\n"
   ]
  },
  {
   "cell_type": "markdown",
   "metadata": {
    "deletable": true,
    "editable": true
   },
   "source": [
    "## AdaGrad\n",
    "\n",
    "一般的學習率會是個定值，學習率的選擇是個難題，太小會因為步伐太小，導致花了很多時間才找到最小值，太大的話則會來回震盪，無法輕易找到最佳值。\n",
    "在剛開始我們希望學習率高一點，在權重逐漸穩定後，學習率開始逐步下降。\n",
    "這個技巧稱為**學習率衰減(decay)**。\n",
    "\n",
    "AdaGrad 的公式如下：\n",
    "\n",
    "$$\n",
    "G = G + J(\\theta) * J(\\theta) \\\\\n",
    "W = W - \\alpha * \\frac{1}{\\sqrt G} * J(\\theta)\n",
    "$$"
   ]
  },
  {
   "cell_type": "code",
   "execution_count": 8,
   "metadata": {
    "collapsed": false,
    "deletable": true,
    "editable": true
   },
   "outputs": [],
   "source": [
    "# from mpl_toolkits.mplot3d import Axes3D\n",
    "# from matplotlib import cm\n",
    "# import matplotlib.pyplot as plt\n",
    "# import numpy as np\n",
    "\n",
    "# def func(x,y):\n",
    "#   return (y**2-x**2)\n",
    "\n",
    "# def func_grad(x,y):\n",
    "#   return (-2*x, 2*y)\n",
    "\n",
    "# def plot_func(xt,yt,c='r'):\n",
    "#   fig = plt.figure()\n",
    "#   ax = fig.gca(projection='3d',\n",
    "#         elev=35., azim=-30)\n",
    "#   X, Y = np.meshgrid(np.arange(-5, 5, 0.25), np.arange(-5, 5, 0.25))\n",
    "#   Z = func(X,Y) \n",
    "#   surf = ax.plot_surface(X, Y, Z, rstride=1, cstride=1, \n",
    "#     cmap=cm.coolwarm, linewidth=0.1, alpha=0.3)\n",
    "#   ax.set_zlim(-50, 50)\n",
    "#   ax.scatter(xt, yt, func(xt,yt),c=c, marker='o' )\n",
    "#   ax.set_title(\"x=%.5f, y=%.5f, f(x,y)=%.5f\"%(xt,yt,func(xt,yt))) \n",
    "#   plt.show()\n",
    "#   plt.close()\n",
    "\n",
    "# def run_grad():\n",
    "#   xt = 0.001 \n",
    "#   yt = 4 \n",
    "#   eta = 0.3 \n",
    "#   plot_func(xt,yt,'r')\n",
    "#   for i in range(20):\n",
    "#     gx, gy = func_grad(xt, yt)\n",
    "#     xt = xt - eta*gx\n",
    "#     yt = yt - eta*gy\n",
    "#     if xt < -5 or yt < -5 or xt > 5 or yt > 5:\n",
    "#       break\n",
    "#     plot_func(xt,yt,'r')\n",
    "\n",
    "# def run_adagrad():\n",
    "#   xt = 0.001\n",
    "#   yt = 4 \n",
    "#   eta = 1.0 \n",
    "#   Gxt = 0\n",
    "#   Gyt = 0\n",
    "#   plot_func(xt,yt,'b')\n",
    "#   for i in range(20):\n",
    "#     gxt,gyt = func_grad(xt, yt)\n",
    "#     Gxt += gxt**2\n",
    "#     Gyt += gyt**2\n",
    "#     xt = xt - eta*(1./(Gxt**0.5))*gxt\n",
    "#     yt = yt - eta*(1./(Gyt**0.5))*gyt\n",
    "#     if xt < -5 or yt < -5 or xt > 5 or yt > 5:\n",
    "#       break\n",
    "#     plot_func(xt,yt,'b')\n",
    "\n",
    "\n",
    "# run_grad()"
   ]
  },
  {
   "cell_type": "code",
   "execution_count": 11,
   "metadata": {
    "collapsed": false,
    "deletable": true,
    "editable": true
   },
   "outputs": [
    {
     "ename": "AttributeError",
     "evalue": "'numpy.ndarray' object has no attribute 'items'",
     "output_type": "error",
     "traceback": [
      "\u001b[0;31m---------------------------------------------------\u001b[0m",
      "\u001b[0;31mAttributeError\u001b[0m    Traceback (most recent call last)",
      "\u001b[0;32m<ipython-input-11-c7d32675c066>\u001b[0m in \u001b[0;36m<module>\u001b[0;34m()\u001b[0m\n\u001b[1;32m     12\u001b[0m \u001b[0moptimizer\u001b[0m \u001b[0;34m=\u001b[0m \u001b[0mAdaGrad\u001b[0m\u001b[0;34m(\u001b[0m\u001b[0mlearning_rate\u001b[0m\u001b[0;34m=\u001b[0m\u001b[0;36m0.01\u001b[0m\u001b[0;34m)\u001b[0m\u001b[0;34m\u001b[0m\u001b[0m\n\u001b[1;32m     13\u001b[0m \u001b[0;34m\u001b[0m\u001b[0m\n\u001b[0;32m---> 14\u001b[0;31m \u001b[0moptimizer\u001b[0m\u001b[0;34m.\u001b[0m\u001b[0mupdate\u001b[0m\u001b[0;34m(\u001b[0m\u001b[0mweights\u001b[0m\u001b[0;34m,\u001b[0m \u001b[0mgrads\u001b[0m\u001b[0;34m)\u001b[0m\u001b[0;34m\u001b[0m\u001b[0m\n\u001b[0m",
      "\u001b[0;32m/Users/kalan/code/ml-note/utils/optimizers.py\u001b[0m in \u001b[0;36mupdate\u001b[0;34m(self, weights, grads, zero_constant)\u001b[0m\n\u001b[1;32m     15\u001b[0m         \u001b[0;32mif\u001b[0m \u001b[0mzero_constant\u001b[0m \u001b[0;34m==\u001b[0m \u001b[0;36m0\u001b[0m\u001b[0;34m:\u001b[0m\u001b[0;34m\u001b[0m\u001b[0m\n\u001b[1;32m     16\u001b[0m             \u001b[0;32mraise\u001b[0m \u001b[0mZeroDivisionError\u001b[0m\u001b[0;34m(\u001b[0m\u001b[0;34m\"can not divide by zero.\"\u001b[0m\u001b[0;34m)\u001b[0m\u001b[0;34m\u001b[0m\u001b[0m\n\u001b[0;32m---> 17\u001b[0;31m         \u001b[0;32mfor\u001b[0m \u001b[0mk\u001b[0m\u001b[0;34m,\u001b[0m \u001b[0mv\u001b[0m \u001b[0;32min\u001b[0m \u001b[0mweights\u001b[0m\u001b[0;34m.\u001b[0m\u001b[0mitems\u001b[0m\u001b[0;34m(\u001b[0m\u001b[0;34m)\u001b[0m\u001b[0;34m:\u001b[0m\u001b[0;34m\u001b[0m\u001b[0m\n\u001b[0m\u001b[1;32m     18\u001b[0m             \u001b[0mself\u001b[0m\u001b[0;34m.\u001b[0m\u001b[0mh\u001b[0m\u001b[0;34m[\u001b[0m\u001b[0mk\u001b[0m\u001b[0;34m]\u001b[0m \u001b[0;34m=\u001b[0m \u001b[0mnp\u001b[0m\u001b[0;34m.\u001b[0m\u001b[0mzeros_like\u001b[0m\u001b[0;34m(\u001b[0m\u001b[0mv\u001b[0m\u001b[0;34m)\u001b[0m\u001b[0;34m\u001b[0m\u001b[0m\n\u001b[1;32m     19\u001b[0m \u001b[0;34m\u001b[0m\u001b[0m\n",
      "\u001b[0;31mAttributeError\u001b[0m: 'numpy.ndarray' object has no attribute 'items'"
     ]
    }
   ],
   "source": [
    "from utils.optimizers import AdaGrad\n",
    "\n",
    "def simple_fn(x1, x2):\n",
    "    return x1**2 + x2**2\n",
    "\n",
    "def simple_fn_grad(x1, x2):\n",
    "    return (2 * x1, 2 * x2)\n",
    "\n"
   ]
  },
  {
   "cell_type": "code",
   "execution_count": null,
   "metadata": {
    "collapsed": true
   },
   "outputs": [],
   "source": []
  }
 ],
 "metadata": {
  "kernelspec": {
   "display_name": "Python 3",
   "language": "python",
   "name": "python3"
  },
  "language_info": {
   "codemirror_mode": {
    "name": "ipython",
    "version": 3
   },
   "file_extension": ".py",
   "mimetype": "text/x-python",
   "name": "python",
   "nbconvert_exporter": "python",
   "pygments_lexer": "ipython3",
   "version": "3.6.5"
  }
 },
 "nbformat": 4,
 "nbformat_minor": 2
}
